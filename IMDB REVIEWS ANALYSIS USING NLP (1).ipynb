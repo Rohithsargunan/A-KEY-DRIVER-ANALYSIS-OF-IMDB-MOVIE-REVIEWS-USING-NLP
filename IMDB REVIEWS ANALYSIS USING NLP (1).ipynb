{
 "cells": [
  {
   "cell_type": "code",
   "execution_count": 25,
   "id": "4f60ffc3",
   "metadata": {},
   "outputs": [],
   "source": [
    "#IMPORTING LIBRARIES\n",
    "import pandas as pd\n",
    "import re\n",
    "import nltk\n",
    "from nltk.corpus import stopwords\n",
    "from nltk.tokenize import word_tokenize\n",
    "from nltk.stem import WordNetLemmatizer\n",
    "\n"
   ]
  },
  {
   "cell_type": "code",
   "execution_count": 26,
   "id": "65d61e24",
   "metadata": {},
   "outputs": [
    {
     "name": "stderr",
     "output_type": "stream",
     "text": [
      "[nltk_data] Downloading package punkt to\n",
      "[nltk_data]     C:\\Users\\MONISHA\\AppData\\Roaming\\nltk_data...\n",
      "[nltk_data]   Package punkt is already up-to-date!\n",
      "[nltk_data] Downloading package stopwords to\n",
      "[nltk_data]     C:\\Users\\MONISHA\\AppData\\Roaming\\nltk_data...\n",
      "[nltk_data]   Package stopwords is already up-to-date!\n",
      "[nltk_data] Downloading package wordnet to\n",
      "[nltk_data]     C:\\Users\\MONISHA\\AppData\\Roaming\\nltk_data...\n",
      "[nltk_data]   Package wordnet is already up-to-date!\n",
      "[nltk_data] Downloading package omw-1.4 to\n",
      "[nltk_data]     C:\\Users\\MONISHA\\AppData\\Roaming\\nltk_data...\n",
      "[nltk_data]   Package omw-1.4 is already up-to-date!\n"
     ]
    },
    {
     "data": {
      "text/plain": [
       "True"
      ]
     },
     "execution_count": 26,
     "metadata": {},
     "output_type": "execute_result"
    }
   ],
   "source": [
    "nltk.download('punkt')\n",
    "nltk.download('stopwords')\n",
    "nltk.download('wordnet')\n",
    "nltk.download('omw-1.4')"
   ]
  },
  {
   "cell_type": "code",
   "execution_count": 27,
   "id": "cc1241e4",
   "metadata": {},
   "outputs": [
    {
     "data": {
      "text/html": [
       "<div>\n",
       "<style scoped>\n",
       "    .dataframe tbody tr th:only-of-type {\n",
       "        vertical-align: middle;\n",
       "    }\n",
       "\n",
       "    .dataframe tbody tr th {\n",
       "        vertical-align: top;\n",
       "    }\n",
       "\n",
       "    .dataframe thead th {\n",
       "        text-align: right;\n",
       "    }\n",
       "</style>\n",
       "<table border=\"1\" class=\"dataframe\">\n",
       "  <thead>\n",
       "    <tr style=\"text-align: right;\">\n",
       "      <th></th>\n",
       "      <th>review</th>\n",
       "      <th>sentiment</th>\n",
       "    </tr>\n",
       "  </thead>\n",
       "  <tbody>\n",
       "    <tr>\n",
       "      <th>0</th>\n",
       "      <td>One of the other reviewers has mentioned that ...</td>\n",
       "      <td>positive</td>\n",
       "    </tr>\n",
       "    <tr>\n",
       "      <th>1</th>\n",
       "      <td>A wonderful little production. &lt;br /&gt;&lt;br /&gt;The...</td>\n",
       "      <td>positive</td>\n",
       "    </tr>\n",
       "    <tr>\n",
       "      <th>2</th>\n",
       "      <td>I thought this was a wonderful way to spend ti...</td>\n",
       "      <td>positive</td>\n",
       "    </tr>\n",
       "    <tr>\n",
       "      <th>3</th>\n",
       "      <td>Basically there's a family where a little boy ...</td>\n",
       "      <td>negative</td>\n",
       "    </tr>\n",
       "    <tr>\n",
       "      <th>4</th>\n",
       "      <td>Petter Mattei's \"Love in the Time of Money\" is...</td>\n",
       "      <td>positive</td>\n",
       "    </tr>\n",
       "    <tr>\n",
       "      <th>5</th>\n",
       "      <td>Probably my all-time favorite movie, a story o...</td>\n",
       "      <td>positive</td>\n",
       "    </tr>\n",
       "    <tr>\n",
       "      <th>6</th>\n",
       "      <td>I sure would like to see a resurrection of a u...</td>\n",
       "      <td>positive</td>\n",
       "    </tr>\n",
       "    <tr>\n",
       "      <th>7</th>\n",
       "      <td>This show was an amazing, fresh &amp; innovative i...</td>\n",
       "      <td>negative</td>\n",
       "    </tr>\n",
       "    <tr>\n",
       "      <th>8</th>\n",
       "      <td>Encouraged by the positive comments about this...</td>\n",
       "      <td>negative</td>\n",
       "    </tr>\n",
       "    <tr>\n",
       "      <th>9</th>\n",
       "      <td>If you like original gut wrenching laughter yo...</td>\n",
       "      <td>positive</td>\n",
       "    </tr>\n",
       "  </tbody>\n",
       "</table>\n",
       "</div>"
      ],
      "text/plain": [
       "                                              review sentiment\n",
       "0  One of the other reviewers has mentioned that ...  positive\n",
       "1  A wonderful little production. <br /><br />The...  positive\n",
       "2  I thought this was a wonderful way to spend ti...  positive\n",
       "3  Basically there's a family where a little boy ...  negative\n",
       "4  Petter Mattei's \"Love in the Time of Money\" is...  positive\n",
       "5  Probably my all-time favorite movie, a story o...  positive\n",
       "6  I sure would like to see a resurrection of a u...  positive\n",
       "7  This show was an amazing, fresh & innovative i...  negative\n",
       "8  Encouraged by the positive comments about this...  negative\n",
       "9  If you like original gut wrenching laughter yo...  positive"
      ]
     },
     "execution_count": 27,
     "metadata": {},
     "output_type": "execute_result"
    }
   ],
   "source": [
    "# Load the dataset\n",
    "df = pd.read_csv('IMDB Dataset.csv')\n",
    "df.head(10)\n"
   ]
  },
  {
   "cell_type": "code",
   "execution_count": 28,
   "id": "dce9f84f",
   "metadata": {},
   "outputs": [],
   "source": [
    "# Text preprocessing function\n",
    "def preprocess_text(text):\n",
    "    text = re.sub(r'<.*?>', '', text)  # Remove HTML tags\n",
    "    text = re.sub(r'[^\\w\\s]', '', text)  # Remove punctuation\n",
    "    text = text.lower()  # Convert to lowercase\n",
    "    tokens = word_tokenize(text)  # Tokenize\n",
    "    lemmatizer = WordNetLemmatizer()\n",
    "    tokens = [lemmatizer.lemmatize(token) for token in tokens if token not in stopwords.words('english')]  # Remove stopwords and lemmatize\n",
    "    return ' '.join(tokens)"
   ]
  },
  {
   "cell_type": "code",
   "execution_count": 29,
   "id": "ebf59098",
   "metadata": {},
   "outputs": [],
   "source": [
    "# Apply preprocessing to the dataset\n",
    "df['cleaned_review'] = df['review'].apply(preprocess_text)\n"
   ]
  },
  {
   "cell_type": "code",
   "execution_count": 30,
   "id": "72fe9615",
   "metadata": {},
   "outputs": [
    {
     "data": {
      "text/plain": [
       "0     one reviewer mentioned watching 1 oz episode y...\n",
       "1     wonderful little production filming technique ...\n",
       "2     thought wonderful way spend time hot summer we...\n",
       "3     basically there family little boy jake think t...\n",
       "4     petter matteis love time money visually stunni...\n",
       "5     probably alltime favorite movie story selfless...\n",
       "6     sure would like see resurrection dated seahunt...\n",
       "7     show amazing fresh innovative idea 70 first ai...\n",
       "8     encouraged positive comment film looking forwa...\n",
       "9     like original gut wrenching laughter like movi...\n",
       "10    phil alien one quirky film humour based around...\n",
       "11    saw movie 12 came recall scariest scene big bi...\n",
       "12    im big fan boll work many enjoyed movie postal...\n",
       "13    cast played shakespeareshakespeare losti appre...\n",
       "14    fantastic movie three prisoner become famous o...\n",
       "Name: cleaned_review, dtype: object"
      ]
     },
     "execution_count": 30,
     "metadata": {},
     "output_type": "execute_result"
    }
   ],
   "source": [
    "df['cleaned_review'].head(15)"
   ]
  },
  {
   "cell_type": "code",
   "execution_count": 31,
   "id": "7bd5fa60",
   "metadata": {},
   "outputs": [],
   "source": [
    "from sklearn.feature_extraction.text import TfidfVectorizer\n"
   ]
  },
  {
   "cell_type": "code",
   "execution_count": 32,
   "id": "9e33466d",
   "metadata": {},
   "outputs": [],
   "source": [
    "# Extract keywords using TF-IDF\n",
    "vectorizer = TfidfVectorizer(max_features=50, ngram_range=(1, 2))\n",
    "X = vectorizer.fit_transform(df['cleaned_review'])\n",
    "keywords = vectorizer.get_feature_names_out()"
   ]
  },
  {
   "cell_type": "code",
   "execution_count": 33,
   "id": "42e71980",
   "metadata": {},
   "outputs": [
    {
     "data": {
      "text/plain": [
       "array(['acting', 'actor', 'also', 'bad', 'best', 'better', 'character',\n",
       "       'could', 'dont', 'end', 'even', 'ever', 'film', 'first', 'get',\n",
       "       'go', 'good', 'great', 'know', 'life', 'like', 'little', 'look',\n",
       "       'love', 'made', 'make', 'many', 'movie', 'much', 'never', 'one',\n",
       "       'people', 'plot', 'really', 'say', 'scene', 'see', 'seen', 'show',\n",
       "       'story', 'take', 'thing', 'think', 'time', 'two', 'watch', 'way',\n",
       "       'well', 'would', 'year'], dtype=object)"
      ]
     },
     "execution_count": 33,
     "metadata": {},
     "output_type": "execute_result"
    }
   ],
   "source": [
    "keywords"
   ]
  },
  {
   "cell_type": "code",
   "execution_count": 34,
   "id": "79aa64f6",
   "metadata": {},
   "outputs": [
    {
     "name": "stdout",
     "output_type": "stream",
     "text": [
      "Requirement already satisfied: textblob in c:\\users\\monisha\\anaconda3\\lib\\site-packages (0.18.0.post0)\n",
      "Requirement already satisfied: nltk>=3.8 in c:\\users\\monisha\\anaconda3\\lib\\site-packages (from textblob) (3.8.1)\n",
      "Requirement already satisfied: regex>=2021.8.3 in c:\\users\\monisha\\anaconda3\\lib\\site-packages (from nltk>=3.8->textblob) (2022.3.15)\n",
      "Requirement already satisfied: click in c:\\users\\monisha\\anaconda3\\lib\\site-packages (from nltk>=3.8->textblob) (8.0.4)\n",
      "Requirement already satisfied: joblib in c:\\users\\monisha\\anaconda3\\lib\\site-packages (from nltk>=3.8->textblob) (1.1.0)\n",
      "Requirement already satisfied: tqdm in c:\\users\\monisha\\anaconda3\\lib\\site-packages (from nltk>=3.8->textblob) (4.64.0)\n",
      "Requirement already satisfied: colorama in c:\\users\\monisha\\anaconda3\\lib\\site-packages (from click->nltk>=3.8->textblob) (0.4.4)\n"
     ]
    }
   ],
   "source": [
    "!pip install textblob\n"
   ]
  },
  {
   "cell_type": "code",
   "execution_count": 35,
   "id": "556dfaf9",
   "metadata": {},
   "outputs": [
    {
     "data": {
      "text/plain": [
       "0    0.023881\n",
       "1    0.127604\n",
       "2    0.264732\n",
       "3   -0.042188\n",
       "4    0.244901\n",
       "Name: sentiment, dtype: float64"
      ]
     },
     "execution_count": 35,
     "metadata": {},
     "output_type": "execute_result"
    }
   ],
   "source": [
    "from textblob import TextBlob\n",
    "\n",
    "def get_sentiment(text):\n",
    "    blob = TextBlob(text)\n",
    "    polarity = blob.sentiment.polarity\n",
    "    \n",
    "    # Define threshold for outlier detection (adjust as needed)\n",
    "    if polarity < -1 or polarity > 1:\n",
    "        return None  # Return None for outliers\n",
    "    else:\n",
    "        return polarity\n",
    "\n",
    "df['sentiment'] = df['cleaned_review'].apply(get_sentiment)\n",
    "df['sentiment'].head(5)"
   ]
  },
  {
   "cell_type": "code",
   "execution_count": 36,
   "id": "ffe627d8",
   "metadata": {},
   "outputs": [],
   "source": [
    "#Calculate keyword frequencies\n",
    "import numpy as np\n",
    "keyword_freq = X.toarray().sum(axis=0)\n",
    "    \n",
    "# Outlier detection for frequency\n",
    "q1, q3 = np.percentile(keyword_freq, [25, 75])\n",
    "iqr = q3 - q1\n",
    "lower_bound = q1 - 1.5 * iqr\n",
    "upper_bound = q3 + 1.5 * iqr\n",
    "keyword_freq_filtered = np.where((keyword_freq >= lower_bound) & (keyword_freq <= upper_bound), keyword_freq, 0)\n",
    "    \n",
    "# Create importance DataFrame\n",
    "importance_df = pd.DataFrame({\n",
    "'keyword': keywords,\n",
    "'frequency': keyword_freq_filtered\n",
    "})\n"
   ]
  },
  {
   "cell_type": "code",
   "execution_count": 37,
   "id": "06671cb0",
   "metadata": {},
   "outputs": [],
   "source": [
    "# Calculate average sentiment for each keyword\n",
    "sentiments = []\n",
    "for keyword in keywords:\n",
    "    mask = df['cleaned_review'].str.contains(keyword)\n",
    "    sentiments.append(df[mask]['sentiment'].mean())\n",
    "    \n",
    "importance_df['sentiment'] = sentiments\n",
    "importance_df['importance'] = importance_df['frequency'] * np.abs(importance_df['sentiment'])\n",
    "importance_df = importance_df.sort_values(by='importance', ascending=False)"
   ]
  },
  {
   "cell_type": "code",
   "execution_count": 40,
   "id": "3dff29a1",
   "metadata": {},
   "outputs": [
    {
     "data": {
      "image/png": "[encoded data removed]",
      "text/plain": [
       "<Figure size 1440x1080 with 2 Axes>"
      ]
     },
     "metadata": {
      "needs_background": "light"
     },
     "output_type": "display_data"
    }
   ],
   "source": [
    "#PLOTTING THE RESULTS\n",
    "import matplotlib.pyplot as plt\n",
    "plt.figure(figsize=(20, 15))\n",
    "plt.scatter(importance_df['sentiment'], importance_df['frequency'], c=importance_df['importance'], cmap='viridis', s=110)\n",
    "plt.colorbar(label='Importance')\n",
    "plt.xlabel('Sentiment Polarity')\n",
    "plt.ylabel('Keyword Frequency')\n",
    "plt.title('Key Driver Analysis')\n",
    "for i, row in importance_df.iterrows():\n",
    "    plt.annotate(row['keyword'], (row['sentiment'], row['frequency']), fontsize=12, alpha=1)\n",
    "plt.show()\n"
   ]
  },
  {
   "cell_type": "code",
   "execution_count": null,
   "id": "8a72123a",
   "metadata": {},
   "outputs": [],
   "source": []
  },
  {
   "cell_type": "code",
   "execution_count": null,
   "id": "53d0f377",
   "metadata": {},
   "outputs": [],
   "source": []
  }
 ],
 "metadata": {
  "kernelspec": {
   "display_name": "Python 3 (ipykernel)",
   "language": "python",
   "name": "python3"
  },
  "language_info": {
   "codemirror_mode": {
    "name": "ipython",
    "version": 3
   },
   "file_extension": ".py",
   "mimetype": "text/x-python",
   "name": "python",
   "nbconvert_exporter": "python",
   "pygments_lexer": "ipython3",
   "version": "3.9.12"
  }
 },
 "nbformat": 4,
 "nbformat_minor": 5
}
